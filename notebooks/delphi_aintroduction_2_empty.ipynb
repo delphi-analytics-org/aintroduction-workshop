{
 "cells": [
  {
   "cell_type": "markdown",
   "metadata": {
    "vscode": {
     "languageId": "plaintext"
    }
   },
   "source": [
    "<font color=\"blue\" font size=\"10\">AI</font><font color=\"black\" font size=\"8\">ntroduction</font> <font color=\"grey\" font size=\"4\">by Delphi Analytics</font>"
   ]
  },
  {
   "cell_type": "markdown",
   "metadata": {},
   "source": [
    "# Lezione 2: Librerie"
   ]
  },
  {
   "cell_type": "markdown",
   "metadata": {},
   "source": [
    "## Cos'è una Libreria?\n",
    "\n",
    "In Python, una libreria è una raccolta di codice pre-scritto che puoi utilizzare per svolgere compiti in modo più efficiente. Le librerie forniscono funzioni e strumenti riutilizzabili che ti aiutano a evitare di dover riscrivere codice per compiti comuni. Sono essenziali per la scienza dei dati, permettendoti di gestire dati, eseguire calcoli numerici e creare visualizzazioni con facilità.\n",
    "\n",
    "Alcune librerie comuni utilizzate nella scienza dei dati includono:\n",
    "\n",
    "1. **Numpy**: Per i calcoli numerici, soprattutto con gli array.\n",
    "2. **Pandas**: Per la manipolazione e l'analisi dei dati.\n",
    "3. **Matplotlib**: Per creare visualizzazioni e grafici.\n",
    "\n",
    "> \"*Una buona libreria è come una cassetta degli attrezzi: scegli lo strumento giusto per il lavoro giusto.*\" ~ Data Scientist, 2024\n",
    "\n",
    "---\n",
    "\n",
    "## Come Installare le Librerie\n",
    "\n",
    "Prima di immergerci nell'uso di `Numpy`, `Pandas` e `Matplotlib`, dobbiamo assicurarci che siano installate sul tuo computer.\n",
    "\n",
    "### Guida Passo-Passo all'Installazione\n",
    "\n",
    "Puoi installare queste librerie utilizzando `pip`, il gestore di pacchetti Python, eseguendo i seguenti comandi nel terminale o nel prompt dei comandi:\n",
    "\n",
    "1. **Installare Numpy**:\n",
    "    ```bash\n",
    "    pip install numpy\n",
    "    ```\n",
    "\n",
    "2. **Installare Pandas**:\n",
    "    ```bash\n",
    "    pip install pandas\n",
    "    ```\n",
    "\n",
    "3. **Installare Matplotlib**:\n",
    "    ```bash\n",
    "    pip install matplotlib\n",
    "    ```\n",
    "\n",
    "### Verifica dell'Installazione\n",
    "\n",
    "Dopo aver installato le librerie, puoi verificare che siano state installate correttamente importandole in uno script o notebook Python:\n",
    "\n",
    "```python\n",
    "import numpy as np\n",
    "import pandas as pd\n",
    "import matplotlib.pyplot as plt\n",
    "\n",
    "print(\"Librerie installate e importate con successo!\")\n",
    "```\n",
    "\n",
    "Se non compaiono errori, sei pronto per utilizzare queste librerie nel tuo progetto Python!"
   ]
  },
  {
   "cell_type": "code",
   "execution_count": 1,
   "metadata": {},
   "outputs": [],
   "source": [
    "!pip install numpy pandas matplotlib geopandas --quiet"
   ]
  },
  {
   "cell_type": "code",
   "execution_count": 2,
   "metadata": {},
   "outputs": [],
   "source": [
    "#TODO Esercizio 1: importa le librerie necessarie, e controlla la loro versione."
   ]
  },
  {
   "cell_type": "markdown",
   "metadata": {},
   "source": [
    "# Introduzione a Numpy\n",
    "\n",
    "`Numpy` è una libreria che semplifica enormemente il lavoro con dati numerici in Python, soprattutto grazie all'uso degli **array**. Senza `Numpy`, molte operazioni matematiche su array richiederebbero scrivere manualmente funzioni complesse. Con `Numpy`, invece, possiamo eseguire calcoli su interi array con un solo comando.\n",
    "\n",
    "### Esempio: Somma dei quadrati di una lista di numeri"
   ]
  },
  {
   "cell_type": "code",
   "execution_count": 3,
   "metadata": {},
   "outputs": [],
   "source": [
    "#TODO Esercizio 2: scrivi una funzione che, data la lista di prezzi di un prodotto, restituisca la somma di ogni prezzo al quadrato.\n",
    "\n",
    "prices = [30000, 20000, 10000, 5000, 1000, 100000]\n",
    "\n",
    "def sum_of_squares(prices):\n",
    "    # scrivi qui\n",
    "    ..."
   ]
  },
  {
   "cell_type": "markdown",
   "metadata": {},
   "source": [
    "\n",
    "### Usando Numpy:\n",
    "\n",
    "Con `Numpy`, possiamo fare tutto questo in una sola riga:\n",
    "\n",
    "```python\n",
    "import numpy as np\n",
    "\n",
    "numeri = np.array([1, 2, 3, 4, 5])\n",
    "print(np.sum(numeri ** 2))\n",
    "```"
   ]
  },
  {
   "cell_type": "code",
   "execution_count": 4,
   "metadata": {},
   "outputs": [],
   "source": [
    "# TODO Esercizio 3: utilizzando numpy, calcola:\n",
    "\n",
    "# 1. la media dei prezzi\n",
    "# 2. la deviazione standard dei prezzi\n",
    "# 3. il prezzo massimo\n",
    "# 4. il prezzo minimo\n",
    "\n",
    "# https://numpy.org/devdocs/reference/generated/numpy.mean.html"
   ]
  },
  {
   "cell_type": "code",
   "execution_count": 5,
   "metadata": {},
   "outputs": [],
   "source": [
    "# TODO Esercizio 4: utilizzando numpy, e il nuovo array 'sconti', calcola:\n",
    "\n",
    "# 1. il prezzo scontato per ogni prodotto.\n",
    "# 3. la somma dei prezzi scontati.\n",
    "\n",
    "sconti = [0.1, 0.2, 0.3, 0.4, 0.5, 0.6]\n"
   ]
  },
  {
   "cell_type": "markdown",
   "metadata": {},
   "source": [
    "## Introduzione a Pandas\n",
    "\n",
    "`Pandas` è una libreria fondamentale per la manipolazione e l'analisi dei dati in Python. Permette di lavorare con tabelle di dati (DataFrame) in modo molto efficiente, facilitando operazioni come il caricamento di file, il filtraggio, l'ordinamento e molto altro.\n",
    "\n",
    "### Leggere un file con Pandas\n",
    "\n",
    "Con `Pandas`, leggere un file CSV è semplicissimo. Supponiamo di voler caricare un dataset.\n",
    "\n",
    "```python\n",
    "import pandas as pd\n",
    "\n",
    "# Leggere il file CSV\n",
    "df = pd.read_csv('percorso/del/file.csv')\n",
    "```"
   ]
  },
  {
   "cell_type": "code",
   "execution_count": 6,
   "metadata": {},
   "outputs": [],
   "source": [
    "# TODO Esercizio 5: utilizzando pandas, leggi il file nella cartella 'data'."
   ]
  },
  {
   "cell_type": "markdown",
   "metadata": {},
   "source": [
    "### Il mercato immobiliare a Roma\n",
    "Il dataset nel file `housing.csv` contiene informazioni sul mercato immobiliare a Roma. Le sue colonne sono:\n",
    "\n",
    "- **LATITUDINE**: coordinata geografica latitudinale dell'immobile\n",
    "- **LONGITUDINE**: coordinata geografica longitudinale dell'immobile\n",
    "- **NUMERO_CAMERE**: numero di camere presenti nell'immobile\n",
    "- **NUMERO_BAGNI**: numero di bagni nell'immobile\n",
    "- **PREZZO**: prezzo dell'immobile\n",
    "- **SUPERFICIE**: superficie totale dell'immobile in metri quadrati\n",
    "- **ANNO_COSTRUZIONE**: anno di costruzione dell'immobile\n",
    "- **TIPOLOGIA_ANNUNCIO**: tipo di annuncio (vendita, affitto, ecc.)\n",
    "- **PIANO**: piano in cui si trova l'immobile\n",
    "- **TOT_PIANI**: numero totale di piani dell'edificio\n",
    "- **CLASSE_ENERGETICA**: classe energetica dell'immobile\n",
    "- **COMUNE**: comune in cui si trova l'immobile\n",
    "- **PROVINCIA**: provincia in cui si trova l'immobile"
   ]
  },
  {
   "cell_type": "markdown",
   "metadata": {},
   "source": [
    "\n",
    "### Ottenere le 10 case con il prezzo più alto\n",
    "\n",
    "Grazie a `Pandas`, possiamo ottenere le prime 10 case con il prezzo più alto in modo diretto:"
   ]
  },
  {
   "cell_type": "code",
   "execution_count": null,
   "metadata": {},
   "outputs": [],
   "source": [
    "# Ordinare per prezzo e ottenere le prime 10 case\n",
    "import pandas as pd\n",
    "import numpy as np\n",
    "df = pd.read_csv('../data/housing.csv')\n",
    "df.sort_values(by='PREZZO', ascending=False).head(10)"
   ]
  },
  {
   "cell_type": "code",
   "execution_count": 8,
   "metadata": {},
   "outputs": [],
   "source": [
    "# TODO Esercizio 6: utilizzando pandas,\n",
    "\n",
    "# 1. visualizza le case con 3 bagni\n",
    "# 2. visualizza le case con 2 bagni e 3 camere da letto\n",
    "# 3. calcola la media dei prezzi delle case con 2 bagni e 3 camere da letto"
   ]
  },
  {
   "cell_type": "code",
   "execution_count": 9,
   "metadata": {},
   "outputs": [],
   "source": [
    "# TODO OPTIONAL Esercizio 7 (avanzato):\n",
    "# calcola il prezzo medio per ogni numero di camere da letto\n",
    "\n",
    "# https://pandas.pydata.org/docs/reference/api/pandas.DataFrame.groupby.html"
   ]
  },
  {
   "cell_type": "markdown",
   "metadata": {},
   "source": [
    "## Introduzione a Matplotlib\n",
    "\n",
    "`Matplotlib` è la libreria principale per la visualizzazione dei dati in Python. Consente di creare grafici in modo facile e flessibile, come grafici a linee, scatter plot, istogrammi e altro. È particolarmente utile in scienza dei dati per visualizzare le relazioni tra variabili e analizzare i trend dei dataset.\n",
    "\n",
    "### Esempio di Visualizzazione: Scatter Plot\n",
    "\n",
    "Supponiamo di voler visualizzare la relazione tra il prezzo delle case e la loro superficie. Possiamo creare uno scatter plot con `Matplotlib` per capire meglio questa relazione:"
   ]
  },
  {
   "cell_type": "code",
   "execution_count": 10,
   "metadata": {},
   "outputs": [],
   "source": [
    "import matplotlib.pyplot as plt\n",
    "import pandas as pd\n",
    "\n",
    "# Crea uno scatter plot\n",
    "def create_scatter_plot(df: pd.DataFrame, x_col: str, y_col: str) -> None:\n",
    "    \"\"\"\n",
    "    Create a scatter plot for the given DataFrame using specified columns for x and y axes.\n",
    "\n",
    "    Parameters:\n",
    "    df (pd.DataFrame): The DataFrame containing the data.\n",
    "    x_col (str): The column name to be used for the x-axis.\n",
    "    y_col (str): The column name to be used for the y-axis.\n",
    "    \"\"\"\n",
    "    plt.scatter(df[x_col], df[y_col])\n",
    "    plt.title(f'Relazione tra {x_col} e {y_col}')\n",
    "    plt.xlabel(x_col)\n",
    "    plt.ylabel(y_col)\n",
    "    plt.gca().yaxis.set_major_formatter(plt.FuncFormatter(lambda x, _: format(int(x), ',')))\n",
    "    plt.show()"
   ]
  },
  {
   "cell_type": "code",
   "execution_count": null,
   "metadata": {},
   "outputs": [],
   "source": [
    "# Example usage:\n",
    "create_scatter_plot(df, 'SUPERFICIE', 'PREZZO')"
   ]
  },
  {
   "cell_type": "code",
   "execution_count": 12,
   "metadata": {},
   "outputs": [],
   "source": [
    "# TODO Esercizio 7: Creare un istogramma del numero di bagni\n",
    "\n",
    "# 1. Crea un istogramma che mostri la distribuzione del numero di bagni nelle case"
   ]
  },
  {
   "cell_type": "code",
   "execution_count": 13,
   "metadata": {},
   "outputs": [],
   "source": [
    "# TODO Esercizio 8: Creare un grafico a barre del prezzo medio per comune\n",
    "\n",
    "prezzo_medio_comune = df.groupby('COMUNE')['PREZZO'].mean()"
   ]
  },
  {
   "cell_type": "code",
   "execution_count": 14,
   "metadata": {},
   "outputs": [],
   "source": [
    "# TODO Esercizio 9: Creare un boxplot per la superficie delle case in base al numero di camere\n",
    "\n",
    "# 1. Crea un boxplot per vedere la distribuzione della superficie delle case con 2, 3 e 4 camere\n",
    "# https://pandas.pydata.org/docs/reference/api/pandas.DataFrame.hist.html"
   ]
  },
  {
   "cell_type": "markdown",
   "metadata": {},
   "source": [
    "## Visualizzazione avanzata: dati geografici"
   ]
  },
  {
   "cell_type": "markdown",
   "metadata": {},
   "source": [
    "Per questa sezione, utilizzeremo un dataset aggiuntivo con dati geografici sui Rioni di Roma!"
   ]
  },
  {
   "cell_type": "code",
   "execution_count": 15,
   "metadata": {},
   "outputs": [],
   "source": [
    "!pip install geopandas --quiet"
   ]
  },
  {
   "cell_type": "code",
   "execution_count": null,
   "metadata": {},
   "outputs": [],
   "source": [
    "import geopandas as gpd\n",
    "rioni = gpd.read_file('../data/Roma_ZU.shp').to_crs(epsg=3857)\n",
    "rioni"
   ]
  },
  {
   "cell_type": "markdown",
   "metadata": {},
   "source": [
    "Tramite la libreria `geopandas`, è possibile sovrapporre una mappa di Roma ai dati"
   ]
  },
  {
   "cell_type": "code",
   "execution_count": null,
   "metadata": {},
   "outputs": [],
   "source": [
    "def preprocess_data(df: pd.DataFrame) -> gpd.GeoDataFrame:\n",
    "    houses_df = df.dropna(subset=['LATITUDINE', 'LONGITUDINE', 'PREZZO'])\n",
    "\n",
    "    # Convert the DataFrame to a GeoDataFrame\n",
    "    geometry = gpd.points_from_xy(houses_df.LONGITUDINE, houses_df.LATITUDINE)\n",
    "    houses_gdf = gpd.GeoDataFrame(houses_df, geometry=geometry)\n",
    "    houses_gdf[\"geometry\"] = houses_gdf[\"geometry\"].set_crs(epsg=4326, inplace=True).to_crs(epsg=3857)\n",
    "    \n",
    "    return houses_gdf\n",
    "\n",
    "def plot_house_prices(houses_gdf: gpd.GeoDataFrame, rioni: gpd.GeoDataFrame):\n",
    "    fig, ax = plt.subplots()\n",
    "    \n",
    "    rioni.plot(ax=ax, color='grey', edgecolor='white', alpha=0.5)\n",
    "    \n",
    "    scatter = ax.scatter(\n",
    "        houses_gdf.geometry.x,\n",
    "        houses_gdf.geometry.y,\n",
    "        c=houses_gdf[\"PREZZO\"],\n",
    "        cmap='RdYlGn_r',\n",
    "        s=10,\n",
    "    )\n",
    "    \n",
    "    plt.colorbar(scatter, label='Price (€)', format='%.0f')\n",
    "    \n",
    "    ax.set_axis_off()\n",
    "    \n",
    "    xlim = (houses_gdf.total_bounds[0]*0.99, houses_gdf.total_bounds[2]*1.01)\n",
    "    ylim = (houses_gdf.total_bounds[1]*0.999, houses_gdf.total_bounds[3]*1.001)\n",
    "    ax.set_xlim(xlim)\n",
    "    ax.set_ylim(ylim)\n",
    "    \n",
    "    return\n",
    "\n",
    "df = pd.read_csv('../data/housing.csv')\n",
    "houses_gdf = preprocess_data(df)\n",
    "plot_house_prices(houses_gdf, rioni)"
   ]
  },
  {
   "cell_type": "code",
   "execution_count": null,
   "metadata": {},
   "outputs": [],
   "source": [
    "df = pd.read_csv('../data/housing.csv')\n",
    "houses_gdf = preprocess_data(df)\n",
    "plot_house_prices(houses_gdf, rioni)"
   ]
  },
  {
   "cell_type": "markdown",
   "metadata": {},
   "source": [
    "## Esercizio a casa"
   ]
  },
  {
   "cell_type": "markdown",
   "metadata": {},
   "source": [
    "In questo esercizio, dovrai creare una mappa coropletica che rappresenti il prezzo medio al metro quadro delle case nei rioni di Roma. Ogni rione sarà colorato in base al suo prezzo medio, utilizzando una scala cromatica che va dal rosso (prezzi più alti) al verde (prezzi più bassi).\n",
    "\n",
    "#### Istruzioni:\n",
    "\n",
    "1. **Unisci i dati geografici delle case con i rioni di Roma** per assegnare un rione a ciascuna casa.\n",
    "   \n",
    "2. **Calcola il prezzo al metro quadro** di ciascuna casa e il prezzo medio per rione.\n",
    "\n",
    "3. **Crea una mappa coropletica** per visualizzare il prezzo medio al metro quadro per rione. Personalizza i rioni senza dati con un colore grigio e assegna colori particolari a due rioni (86 e 15).\n",
    "---\n",
    "\n",
    "#### Link utili:\n",
    "\n",
    "- [Documentazione di `sjoin`](https://geopandas.org/en/stable/docs/reference/api/geopandas.sjoin.html)\n",
    "- [Documentazione di `plot`](https://geopandas.org/en/stable/docs/reference/api/geopandas.GeoDataFrame.plot.html)\n",
    "- [Documentazione di `groupby`](https://pandas.pydata.org/pandas-docs/stable/reference/api/pandas.DataFrame.groupby.html)\n",
    "- [Documentazione di `pd.merge`](https://pandas.pydata.org/pandas-docs/stable/reference/api/pandas.merge.html)\n",
    "---\n",
    "\n",
    "Buon lavoro e divertiti a visualizzare i dati di Roma!"
   ]
  },
  {
   "cell_type": "code",
   "execution_count": null,
   "metadata": {},
   "outputs": [],
   "source": [
    "import matplotlib.patheffects as pe\n",
    "\n",
    "# unisci i dati delle case con i dati dei rioni\n",
    "a = gpd.sjoin(\n",
    "    None, # TODO sostituire None con il GeoDataFrame delle case,\n",
    "    None, # TODO sostituire None con il GeoDataFrame dei rioni,\n",
    "    predicate='within')\n",
    "a = a[~a.index.duplicated(keep='first')]\n",
    "\n",
    "# Calcola il prezzo al metro quadro per ogni casa\n",
    "houses_gdf[\"PRICE_M2\"] = None # TODO sostituire None con il prezzo al metro quadro \n",
    "houses_gdf[\"rioni\"] = a[\"Name\"]\n",
    "\n",
    "# Calcola il prezzo medio al metro quadro per ogni rione\n",
    "rioni_avg_pricem2 = None # TODO calcolare il prezzo medio al metro quadro per ogni rione\n",
    "rioni_avg_pricem2 = rioni_avg_pricem2.rename(columns={'rioni': 'Name', 'PRICE_M2': 'avg_price'})\n",
    "\n",
    "# Unisci i dati dei rioni con i dati delle case (HINT: usa pd.merge)\n",
    "rioni_con_prezzo_al_m2 = pd.merge(rioni, rioni_avg_pricem2, on='Name', how='left')\n",
    "\n",
    "# Create a choropleth map of average house prices in each neighborhood\n",
    "ax = rioni_con_prezzo_al_m2.plot(\n",
    "    figsize=(15, 15),\n",
    "    column=np.log(rioni_con_prezzo_al_m2['avg_price']),\n",
    "    cmap='RdYlGn_r',\n",
    "    edgecolor='white',\n",
    "    legend=True,\n",
    "    legend_kwds={'label': \"Average squared meter price of houses in €\"},\n",
    "    missing_kwds={'color': 'lightgrey'}\n",
    ")\n",
    "\n",
    "ax.set_axis_off()\n",
    "ax.set_title('Average house prices in Rome neighborhoods')"
   ]
  }
 ],
 "metadata": {
  "kernelspec": {
   "display_name": "mlpy",
   "language": "python",
   "name": "python3"
  },
  "language_info": {
   "codemirror_mode": {
    "name": "ipython",
    "version": 3
   },
   "file_extension": ".py",
   "mimetype": "text/x-python",
   "name": "python",
   "nbconvert_exporter": "python",
   "pygments_lexer": "ipython3",
   "version": "3.10.13"
  }
 },
 "nbformat": 4,
 "nbformat_minor": 2
}
