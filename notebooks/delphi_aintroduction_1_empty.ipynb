{
  "nbformat": 4,
  "nbformat_minor": 0,
  "metadata": {
    "colab": {
      "provenance": []
    },
    "kernelspec": {
      "name": "python3",
      "display_name": "Python 3"
    },
    "language_info": {
      "name": "python"
    }
  },
  "cells": [
    {
      "cell_type": "markdown",
      "source": [
        "<font color=\"blue\" font size=\"10\">AI</font><font color=\"black\" font size=\"8\">ntroduction</font> <font color=\"grey\" font size=\"4\">by Delphi Analytics</font>"
      ],
      "metadata": {
        "id": "NAudMZ7QJf-1"
      }
    },
    {
      "cell_type": "markdown",
      "source": [
        "# Lezione 1: Introduzione a python"
      ],
      "metadata": {
        "id": "NgCHCLZMK3l7"
      }
    },
    {
      "cell_type": "markdown",
      "source": [
        "# Markdown\n",
        "\n",
        "Questa è una cella di testo... o quasi. Il formato di questo tipo di testo si chiama **Markdown**, e offre una grande flessibilità nella formattazione del testo!\n",
        "\n",
        "## Esempi di formattazione\n",
        "\n",
        "### Equazioni\n",
        "Ecco la famosa equazione di Einstein:\n",
        "$$E = mc^2$$\n",
        "\n",
        "### Codice\n",
        "```python\n",
        "# Questo è formattato come codice Python\n",
        "def saluta():\n",
        "    print(\"Ciao Upskill! 👋\")\n",
        "\n",
        "saluta()\n",
        "```\n",
        "\n",
        "### Liste\n",
        "- Punto 1\n",
        "- Punto 2\n",
        "  - Sottopunto A\n",
        "  - Sottopunto B\n",
        "\n",
        "### Tabelle\n",
        "| Colonna 1 | Colonna 2 |\n",
        "|-----------|-----------|\n",
        "| Cella 1   | Cella 2   |\n",
        "| Cella 3   | Cella 4   |\n",
        "\n",
        "### Citazioni\n",
        "> \"*Il Markdown è incredibilmente versatile!*\" ~ Un entusiasta sviluppatore, 2024\n",
        "\n",
        "---\n",
        "\n",
        "Scopri di più sulle potenzialità del Markdown e come può migliorare la tua documentazione!"
      ],
      "metadata": {
        "id": "AASo6zaM76N5"
      }
    },
    {
      "cell_type": "markdown",
      "source": [
        "# Iniziare con Google Colab\n",
        "\n",
        "## Connettersi a un Runtime\n",
        "\n",
        "Per iniziare a lavorare su Colab, dobbiamo prima connetterci a un **runtime** remoto. Questo è il primo passo essenziale per utilizzare le risorse di calcolo di Google.\n",
        "\n",
        "1. Apri il tuo notebook su Colab\n",
        "2. Cerca il pulsante \"Connetti\" in alto a destra\n",
        "3. Clicca e attendi la connessione\n",
        "\n",
        "> \"*Connettersi è il primo passo verso la scoperta!* \" ~ Probabilmente qualcuno, 2024\n",
        "\n",
        "## Eseguire una Cella\n",
        "\n",
        "Ora che siamo connessi, possiamo eseguire il nostro codice. Eseguire una cella significa far elaborare al computer le istruzioni che abbiamo scritto.\n",
        "\n",
        "```python\n",
        "# Prova ad eseguire questa cella!\n",
        "print(\"Il mio primo codice su Colab\")\n",
        "```\n",
        "\n",
        "Per eseguire:\n",
        "1. Clicca sulla cella\n",
        "2. Premi il tasto play ▶️ a sinistra della cella, oppure...\n",
        "3. Usa la scorciatoia da tastiera: `Shift + Enter`\n",
        "\n",
        "### Suggerimento Utile:\n",
        "Puoi eseguire tutte le celle in ordine usando `Runtime > Run all` dal menu in alto.\n"
      ],
      "metadata": {
        "id": "LhmzwhC29XsC"
      }
    },
    {
      "cell_type": "code",
      "source": [
        "# tocca a te!"
      ],
      "metadata": {
        "id": "snSK4eGt7p5e"
      },
      "execution_count": null,
      "outputs": []
    },
    {
      "cell_type": "markdown",
      "source": [
        "Ora sei pronto per esplorare le funzionalità di Colab! Buon lavoro con i tuoi progetti di analisi dati.\n",
        "\n",
        "---"
      ],
      "metadata": {
        "id": "zr3fwZBqA0Ij"
      }
    },
    {
      "cell_type": "markdown",
      "source": [
        "# Operazioni di Base in Python\n",
        "\n",
        "## 1. Cos'è una Variabile\n",
        "\n",
        "Una variabile in Python è come un contenitore etichettato che conserva un valore. Può contenere diversi tipi di dati, come numeri, testo o liste.\n",
        "\n",
        "```python\n",
        "# Esempio di variabili\n",
        "nome = \"Mario Rossi\"\n",
        "eta = 55\n",
        "altezza = 1.75\n",
        "```\n"
      ],
      "metadata": {
        "id": "frg1mf849dYx"
      }
    },
    {
      "cell_type": "code",
      "source": [
        "# tocca a te!"
      ],
      "metadata": {
        "id": "5isNlxRF7rWH"
      },
      "execution_count": null,
      "outputs": []
    },
    {
      "cell_type": "markdown",
      "source": [
        "\n",
        "## 2. Operazioni Matematiche\n",
        "\n",
        "Python può eseguire varie operazioni matematiche. Ecco le più comuni:\n",
        "\n",
        "```python\n",
        "a = 10\n",
        "b = 3\n",
        "\n",
        "somma = a + b      # Addizione\n",
        "differenza = a - b # Sottrazione\n",
        "prodotto = a * b   # Moltiplicazione\n",
        "quoziente = a / b  # Divisione\n",
        "potenza = a ** b   # Elevamento a potenza\n",
        "```\n",
        "---\n",
        "\n",
        "Queste operazioni di base sono i mattoni fondamentali della programmazione in Python. Con la pratica, diventeranno sempre più naturali e intuitive."
      ],
      "metadata": {
        "id": "WjW5JO02AcfB"
      }
    },
    {
      "cell_type": "code",
      "source": [
        "# tocca a te!"
      ],
      "metadata": {
        "id": "UAhAa5XSAjKz"
      },
      "execution_count": null,
      "outputs": []
    },
    {
      "cell_type": "markdown",
      "source": [
        "### Nota Importante:\n",
        "La divisione (/) in Python 3 restituisce sempre un numero decimale. Per ottenere solo la parte intera, usate la divisione intera (//).\n",
        "\n",
        "## 3. Printing (Stampa)\n",
        "\n",
        "La funzione `print()` è usata per visualizzare informazioni sulla console.\n",
        "\n",
        "```python\n",
        "# Stampa semplice\n",
        "print(\"Benvenuti al corso di Python\")\n",
        "\n",
        "# Stampa di variabili\n",
        "nome = \"Anna\"\n",
        "eta = 50\n",
        "print(\"Mi chiamo\", nome, \"e ho\", eta, \"anni\")\n",
        "\n",
        "# Formattazione di stringhe\n",
        "print(f\"Mi chiamo {nome} e ho {eta} anni\")\n",
        "```\n",
        "\n",
        "> \"*La stampa è il vostro modo di comunicare con il programma. Usatela spesso per verificare i vostri dati!*\" ~ Istruttore di Python, 2024"
      ],
      "metadata": {
        "id": "1pLjIwtvAjde"
      }
    },
    {
      "cell_type": "code",
      "source": [
        "# tocca a te!"
      ],
      "metadata": {
        "id": "tS6J_J2eApwO"
      },
      "execution_count": null,
      "outputs": []
    },
    {
      "cell_type": "markdown",
      "source": [
        "### Suggerimento Utile:\n",
        "Utilizzate la stampa frequentemente nel vostro codice per verificare i valori delle variabili e il flusso del programma. È uno strumento prezioso per il debug.\n",
        "\n",
        "---"
      ],
      "metadata": {
        "id": "2rqA8OqRAqD2"
      }
    },
    {
      "cell_type": "markdown",
      "source": [
        "# Comprendere gli Errori in Python\n",
        "\n",
        "## Come Leggere un Log di Errore\n",
        "\n",
        "Quando si verifica un errore, Python fornisce un \"traceback\" che è essenziale per il debug:\n",
        "\n",
        "1. Leggi dal basso verso l'alto\n",
        "2. L'ultima riga contiene il tipo di errore e una breve descrizione\n",
        "3. Le righe sopra mostrano dove si è verificato l'errore nel codice\n",
        "\n",
        "> \"*Un errore ben compreso è un passo verso la soluzione.*\" ~ Sviluppatore Esperto, 2024\n",
        "\n",
        "### Esempio di Log di Errore\n",
        "\n",
        "```\n",
        "Traceback (most recent call last):\n",
        "  File \"mio_script.py\", line 5, in <module>\n",
        "    risultato = numero + testo\n",
        "TypeError: unsupported operand type(s) for +: 'int' and 'str'\n",
        "```\n",
        "## Tipi Comuni di Errori\n",
        "\n",
        "In Python, gli errori sono strumenti preziosi per il debug. Ecco due tipi comuni che potreste incontrare:\n",
        "\n",
        "### TypeError\n",
        "\n",
        "Questo errore si verifica quando un'operazione o una funzione viene applicata a un oggetto di tipo non appropriato.\n",
        "\n",
        "```python\n",
        "# Esempio di TypeError\n",
        "numero = 5\n",
        "testo = \"10\"\n",
        "risultato = numero + testo  # Questo genererà un TypeError\n",
        "```"
      ],
      "metadata": {
        "id": "Dgc5Z2hL9kg2"
      }
    },
    {
      "cell_type": "code",
      "source": [
        "# tocca a te!"
      ],
      "metadata": {
        "id": "Xe6XJkCHA9kH"
      },
      "execution_count": null,
      "outputs": []
    },
    {
      "cell_type": "markdown",
      "source": [
        "\n",
        "### ValueError\n",
        "\n",
        "Si verifica quando un'operazione o una funzione riceve un argomento del tipo corretto ma con un valore inappropriato.\n",
        "\n",
        "```python\n",
        "# Esempio di ValueError\n",
        "numero = int(\"abc\")  # Questo genererà un ValueError\n",
        "```"
      ],
      "metadata": {
        "id": "dBW4wJJvA8Rg"
      }
    },
    {
      "cell_type": "code",
      "source": [
        "# tocca a te!"
      ],
      "metadata": {
        "id": "D9RWRR67BNm7"
      },
      "execution_count": null,
      "outputs": []
    },
    {
      "cell_type": "markdown",
      "source": [
        "### Suggerimento Utile:\n",
        "Non scoraggiatevi quando incontrate errori. Sono parte normale del processo di sviluppo e vi aiutano a migliorare il vostro codice. Comprendere gli errori è fondamentale per diventare efficaci nell'analisi dei dati con Python. Con la pratica, diventerete esperti nel risolverli!\n",
        "\n",
        "---\n",
        "\n"
      ],
      "metadata": {
        "id": "mS9ao-VhBOBk"
      }
    },
    {
      "cell_type": "markdown",
      "source": [
        "# Condizionali e Loop in Python\n",
        "\n",
        "## Strutture Condizionali\n",
        "\n",
        "Le strutture condizionali permettono al programma di prendere decisioni basate su determinate condizioni.\n",
        "\n",
        "### If, Elif, Else\n",
        "\n",
        "```python\n",
        "età = 34\n",
        "\n",
        "if età < 18:\n",
        "    print(\"Sei minorenne\")\n",
        "elif età >= 70:\n",
        "    print(\"Sei in pensione\")\n",
        "else:\n",
        "    print(\"Sei un adulto in età lavorativa\")\n",
        "```"
      ],
      "metadata": {
        "id": "Mer5KC4qB9D4"
      }
    },
    {
      "cell_type": "code",
      "source": [
        "# tocca a te!"
      ],
      "metadata": {
        "id": "GsX3MaLPCFV-"
      },
      "execution_count": null,
      "outputs": []
    },
    {
      "cell_type": "markdown",
      "source": [
        "\n",
        "### Try, Except\n",
        "\n",
        "Utile per gestire potenziali errori nel codice.\n",
        "\n",
        "```python\n",
        "try:\n",
        "    numero = int(input(\"Inserisci un numero: \"))\n",
        "    risultato = 100 / numero\n",
        "    print(f\"100 diviso {numero} è {risultato}\")\n",
        "except ValueError:\n",
        "    print(\"Errore: Devi inserire un numero valido\")\n",
        "except ZeroDivisionError:\n",
        "    print(\"Errore: Non puoi dividere per zero\")\n",
        "```\n"
      ],
      "metadata": {
        "id": "Rxj-Y5_rCFto"
      }
    },
    {
      "cell_type": "code",
      "source": [
        "# tocca a te!"
      ],
      "metadata": {
        "id": "X-UJO3HdCIH-"
      },
      "execution_count": null,
      "outputs": []
    },
    {
      "cell_type": "markdown",
      "source": [
        "\n",
        "## Strutture di Loop\n",
        "\n",
        "I loop permettono di ripetere un'azione più volte.\n",
        "\n",
        "### For Loop\n",
        "\n",
        "Utile quando si conosce il numero di iterazioni.\n",
        "\n",
        "```python\n",
        "frutti = [\"mela\", \"banana\", \"arancia\"]\n",
        "\n",
        "for frutto in frutti:\n",
        "    print(f\"Mi piace la {frutto}\")\n",
        "```\n"
      ],
      "metadata": {
        "id": "nLH691G2CJ9u"
      }
    },
    {
      "cell_type": "code",
      "source": [
        "# tocca a te!"
      ],
      "metadata": {
        "id": "0Lxuboi4CM5C"
      },
      "execution_count": null,
      "outputs": []
    },
    {
      "cell_type": "markdown",
      "source": [
        "\n",
        "### While Loop\n",
        "\n",
        "Si usa quando non si sa in anticipo quante iterazioni saranno necessarie.\n",
        "\n",
        "```python\n",
        "contatore = 0\n",
        "\n",
        "while contatore < 5:\n",
        "    print(f\"Il contatore è a {contatore}\")\n",
        "    contatore += 1\n",
        "```\n",
        "\n",
        "> \"*I loop e i condizionali sono come i bivi e i percorsi circolari in un sentiero: ti permettono di navigare attraverso il tuo codice in modi complessi e potenti.*\" ~ Esperto Programmatore, 2024\n",
        "\n",
        "### Suggerimento Utile:\n",
        "Fate attenzione ai \"loop infiniti\" quando usate while. Assicuratevi sempre che ci sia una condizione che porterà all'uscita dal loop."
      ],
      "metadata": {
        "id": "sjkWbmzvCNGF"
      }
    },
    {
      "cell_type": "code",
      "source": [
        "# tocca a te!"
      ],
      "metadata": {
        "id": "KKtIp_WkCUZG"
      },
      "execution_count": null,
      "outputs": []
    },
    {
      "cell_type": "markdown",
      "source": [
        "Queste strutture di controllo del flusso sono fondamentali in programmazione. Vi permetteranno di creare programmi più complessi e flessibili. Con la pratica, diventerete esperti nel loro utilizzo.\n",
        "\n",
        "---"
      ],
      "metadata": {
        "id": "J7mRq5-vCUrM"
      }
    },
    {
      "cell_type": "markdown",
      "source": [
        "# Funzioni in Python\n",
        "\n",
        "Le funzioni sono blocchi di codice riutilizzabili che eseguono un compito specifico. Sono fondamentali per scrivere codice efficiente e organizzato.\n",
        "\n",
        "## Perché Usare le Funzioni\n",
        "\n",
        "1. **Riutilizzo del codice**: Evitate di riscrivere lo stesso codice più volte.\n",
        "2. **Organizzazione**: Rendono il codice più leggibile e gestibile.\n",
        "3. **Modularità**: Permettono di suddividere problemi complessi in parti più semplici.\n",
        "4. **Manutenibilità**: Facilitano l'aggiornamento e la correzione del codice.\n",
        "\n",
        "```python\n",
        "def saluta(nome):\n",
        "    return f\"Buongiorno, {nome}!\"\n",
        "\n",
        "# Utilizzo della funzione\n",
        "messaggio = saluta(\"Maria\")\n",
        "print(messaggio)  # Output: Buongiorno, Maria!\n",
        "```"
      ],
      "metadata": {
        "id": "GMGFl1CcDWrt"
      }
    },
    {
      "cell_type": "code",
      "source": [
        "# tocca a te!"
      ],
      "metadata": {
        "id": "8E_hjLTJDdeL"
      },
      "execution_count": null,
      "outputs": []
    },
    {
      "cell_type": "markdown",
      "source": [
        "## Parametri con Nome vs Senza Nome\n",
        "\n",
        "### Parametri Posizionali (Senza Nome)\n",
        "\n",
        "I parametri vengono passati nell'ordine in cui sono definiti.\n",
        "\n",
        "```python\n",
        "def calcola_rettangolo(lunghezza, larghezza):\n",
        "    return lunghezza * larghezza\n",
        "\n",
        "area = calcola_rettangolo(5, 3)\n",
        "print(f\"L'area del rettangolo è {area}\")\n",
        "```"
      ],
      "metadata": {
        "id": "gpNRFNBODdvO"
      }
    },
    {
      "cell_type": "code",
      "source": [
        "# tocca a te!"
      ],
      "metadata": {
        "id": "Kne5V2QeDhcV"
      },
      "execution_count": null,
      "outputs": []
    },
    {
      "cell_type": "markdown",
      "source": [
        "\n",
        "### Parametri con Nome\n",
        "\n",
        "Permettono di specificare esplicitamente quale valore corrisponde a quale parametro.\n",
        "\n",
        "```python\n",
        "def pianifica_viaggio(destinazione, durata, budget):\n",
        "    return f\"Viaggio a {destinazione} per {durata} giorni con budget di {budget}€\"\n",
        "\n",
        "itinerario = pianifica_viaggio(destinazione=\"Roma\", durata=5, budget=1000)\n",
        "print(itinerario)\n",
        "```\n",
        "\n",
        "> \"*Le funzioni sono come ricette di cucina: una volta scritte bene, possono essere riutilizzate all'infinito con ingredienti diversi.*\" ~ Programmatore Esperto, 2024"
      ],
      "metadata": {
        "id": "2GfS3Gx8Dhv-"
      }
    },
    {
      "cell_type": "code",
      "source": [
        "# tocca a te!"
      ],
      "metadata": {
        "id": "etFHgU-_Dqvb"
      },
      "execution_count": null,
      "outputs": []
    },
    {
      "cell_type": "markdown",
      "source": [
        "\n",
        "### Vantaggi dei Parametri con Nome:\n",
        "1. Chiarezza: Il codice diventa più leggibile.\n",
        "2. Flessibilità: L'ordine dei parametri non è importante.\n",
        "3. Valori predefiniti: Facilita l'impostazione di valori di default.\n",
        "\n",
        "```python\n",
        "def crea_profilo(nome, età, città=\"Non specificata\"):\n",
        "    return f\"Nome: {nome}, Età: {età}, Città: {città}\"\n",
        "\n",
        "profilo1 = crea_profilo(\"Luca\", 55)\n",
        "profilo2 = crea_profilo(età=48, nome=\"Anna\", città=\"Milano\")\n",
        "\n",
        "print(profilo1)\n",
        "print(profilo2)\n",
        "```\n",
        "\n",
        "\n",
        "### Suggerimento Utile:\n",
        "Quando create funzioni con molti parametri, considerate l'uso di parametri con nome per aumentare la leggibilità e ridurre gli errori. Le funzioni sono uno strumento potente in Python. Con la pratica, imparerete a scrivere funzioni efficienti e riutilizzabili, migliorando significativamente la qualità del vostro codice."
      ],
      "metadata": {
        "id": "1OgbUOceDrFE"
      }
    },
    {
      "cell_type": "code",
      "source": [
        "# tocca a te!"
      ],
      "metadata": {
        "id": "miOjVNYxDtDM"
      },
      "execution_count": null,
      "outputs": []
    },
    {
      "cell_type": "markdown",
      "source": [
        "# Importare e Utilizzare Librerie Comuni in Python\n",
        "\n",
        "Le librerie in Python sono collezioni di funzioni e moduli preesistenti che estendono le capacità del linguaggio. Vediamo come importare e utilizzare tre delle librerie più comuni per l'analisi dei dati.\n",
        "\n",
        "## Matplotlib\n",
        "\n",
        "Matplotlib è utilizzata per creare grafici e visualizzazioni.\n",
        "\n",
        "```python\n",
        "import matplotlib.pyplot as plt\n",
        "\n",
        "# Creazione di un semplice grafico\n",
        "x = [1, 2, 3, 4, 5]\n",
        "y = [2, 4, 6, 8, 10]\n",
        "\n",
        "plt.plot(x, y)\n",
        "plt.title(\"Grafico Lineare Semplice\")\n",
        "plt.xlabel(\"Asse X\")\n",
        "plt.ylabel(\"Asse Y\")\n",
        "plt.show()\n",
        "```\n",
        "\n"
      ],
      "metadata": {
        "id": "ArZloibAIP-I"
      }
    },
    {
      "cell_type": "code",
      "source": [
        "# tocca a te!"
      ],
      "metadata": {
        "id": "3fILm7cfIpFD"
      },
      "execution_count": null,
      "outputs": []
    },
    {
      "cell_type": "markdown",
      "source": [
        "## NumPy\n",
        "\n",
        "NumPy è fondamentale per calcoli numerici efficienti in Python.\n",
        "\n",
        "```python\n",
        "import numpy as np\n",
        "\n",
        "# Creazione e operazioni su array\n",
        "arr = np.array([1, 2, 3, 4, 5])\n",
        "print(\"Array:\", arr)\n",
        "print(\"Media:\", np.mean(arr))\n",
        "print(\"Somma:\", np.sum(arr))\n",
        "```"
      ],
      "metadata": {
        "id": "QzwaxIwvIoUh"
      }
    },
    {
      "cell_type": "code",
      "source": [
        "# tocca a te!"
      ],
      "metadata": {
        "id": "glY1tQFBIi5C"
      },
      "execution_count": null,
      "outputs": []
    },
    {
      "cell_type": "markdown",
      "source": [
        "## Pandas\n",
        "\n",
        "Pandas è essenziale per la manipolazione e l'analisi di dati strutturati.\n",
        "\n",
        "```python\n",
        "import pandas as pd\n",
        "\n",
        "# Creazione di un DataFrame\n",
        "dati = {\n",
        "    'Nome': ['Anna', 'Luca', 'Maria', 'Giovanni'],\n",
        "    'Età': [45, 52, 38, 61],\n",
        "    'Città': ['Roma', 'Milano', 'Napoli', 'Torino']\n",
        "}\n",
        "\n",
        "df = pd.DataFrame(dati)\n",
        "print(df)\n",
        "\n",
        "# Operazioni di base\n",
        "print(\"\\nEtà media:\", df['Età'].mean())\n",
        "print(\"\\nPersone sopra i 50 anni:\")\n",
        "print(df[df['Età'] > 50])\n",
        "```"
      ],
      "metadata": {
        "id": "o-3Nu__xIim5"
      }
    },
    {
      "cell_type": "code",
      "source": [
        "# tocca a te!"
      ],
      "metadata": {
        "id": "tHxPpWcJIcM7"
      },
      "execution_count": null,
      "outputs": []
    },
    {
      "cell_type": "markdown",
      "source": [
        "### Suggerimento Utile:\n",
        "È comune abbreviare queste librerie durante l'importazione per comodità di scrittura. Ad esempio, `import matplotlib.pyplot as plt` o `import pandas as pd`.\n",
        "\n",
        "\n",
        "### Nota Importante:\n",
        "Prima di utilizzare queste librerie, assicuratevi di averle installate nel vostro ambiente Python. In Google Colab, sono generalmente preinstallate e pronte all'uso.\n",
        "\n",
        "---"
      ],
      "metadata": {
        "id": "GS2b2_hAIcel"
      }
    },
    {
      "cell_type": "markdown",
      "source": [
        "# Utilizzare la Documentazione in Python\n",
        "\n",
        "La documentazione è una risorsa fondamentale per ogni programmatore. Vediamo come sfruttarla al meglio.\n",
        "\n",
        "## 1. Usare help() su Metodi\n",
        "\n",
        "La funzione `help()` fornisce informazioni su oggetti, funzioni e moduli Python.\n",
        "\n",
        "```python\n",
        "# Esempio di utilizzo di help()\n",
        "import math\n",
        "\n",
        "help(math.sqrt)\n",
        "```\n",
        "\n",
        "Questo mostrerà una descrizione della funzione `sqrt` del modulo `math`.\n"
      ],
      "metadata": {
        "id": "DIb7ybfNC-XR"
      }
    },
    {
      "cell_type": "code",
      "source": [
        "# tocca a te!"
      ],
      "metadata": {
        "id": "RL_fCDUYD-Gk"
      },
      "execution_count": null,
      "outputs": []
    },
    {
      "cell_type": "markdown",
      "source": [
        "## 2. Documentazione Ufficiale\n",
        "\n",
        "La documentazione ufficiale di Python (https://docs.python.org) è una risorsa completa e affidabile.\n",
        "\n",
        "> \"*La documentazione ufficiale è come un manuale dettagliato: può sembrare ostica all'inizio, ma diventa indispensabile con l'esperienza.*\" ~ Sviluppatore Senior, 2024"
      ],
      "metadata": {
        "id": "G5RNHEjOD-ae"
      }
    },
    {
      "cell_type": "markdown",
      "source": [
        "## 3. Creare Documentazione per una Funzione\n",
        "\n",
        "Le docstring sono un modo per documentare le vostre funzioni:\n",
        "\n",
        "```python\n",
        "def calcola_area_cerchio(raggio):\n",
        "    \"\"\"\n",
        "    Calcola l'area di un cerchio dato il raggio.\n",
        "    \n",
        "    Args:\n",
        "    raggio (float): Il raggio del cerchio\n",
        "    \n",
        "    Returns:\n",
        "    float: L'area del cerchio\n",
        "    \"\"\"\n",
        "    import math\n",
        "    return math.pi * raggio ** 2\n",
        "```\n",
        "\n",
        "Per visualizzare questa documentazione, usate `help(calcola_area_cerchio)`."
      ],
      "metadata": {
        "id": "x9-OWB1oEHdb"
      }
    },
    {
      "cell_type": "code",
      "source": [
        "# tocca a te!"
      ],
      "metadata": {
        "id": "6SgCzFrpEKkm"
      },
      "execution_count": null,
      "outputs": []
    },
    {
      "cell_type": "markdown",
      "source": [
        "\n",
        "## 4. Chiedere Aiuto a un LLM\n",
        "\n",
        "I Large Language Models (LLM) come ChatGPT, Claude o Gemini su Colab possono essere utili per:\n",
        "\n",
        "- Spiegazioni di concetti\n",
        "- Esempi di codice\n",
        "- Debugging\n",
        "- Consigli su best practices\n",
        "\n",
        "### Nota Importante:\n",
        "Mentre gli LLM sono strumenti potenti, è sempre consigliabile verificare le loro risposte con la documentazione ufficiale o fonti affidabili. Saper navigare e utilizzare la documentazione è una competenza fondamentale. Vi aiuterà a diventare programmatori più indipendenti e capaci.\n",
        "\n",
        "\n",
        "## Attività:\n",
        "Scegliete un concetto a scelta tra i seguenti, e con l'aiuto di un LLM cercate di capirne il funzionamento e l'utilità.\n",
        "\n",
        "### Argomenti\n",
        "- come leggere un file .csv in un notebook Colab\n",
        "- come usare line magics in un notebook colab\n",
        "\n",
        "#### Suggerimento utile:\n",
        "Ricordate al LLM che scegliete di utilizzare quale sia il vostro livello di esperienza, in modo che le spiegazioni siano adatte - e chiedete di approfondire su tutto quello che non è chiaro! Buona fortuna😎\n",
        "\n",
        "---"
      ],
      "metadata": {
        "id": "TrdvjMyVEKyN"
      }
    },
    {
      "cell_type": "markdown",
      "source": [
        "Let's get in touch! inquiries@delphianalytics.xyz"
      ],
      "metadata": {
        "id": "2Y7nDny8K-p0"
      }
    },
    {
      "cell_type": "markdown",
      "source": [
        "Provided under [ATTRIBUTION 4.0 INTERNATIONAL](https://creativecommons.org/licenses/by/4.0/) License ."
      ],
      "metadata": {
        "id": "6g9IldX7K_7c"
      }
    }
  ]
}